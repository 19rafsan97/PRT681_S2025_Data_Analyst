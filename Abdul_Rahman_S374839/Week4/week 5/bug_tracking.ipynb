{
 "cells": [
  {
   "cell_type": "code",
   "execution_count": 1,
   "id": "6edbc61b-a948-4ac1-9133-55a147df183e",
   "metadata": {},
   "outputs": [
    {
     "name": "stdout",
     "output_type": "stream",
     "text": [
      "Bug tracking table ready.\n"
     ]
    }
   ],
   "source": [
    "import sqlite3\n",
    "from datetime import date\n",
    "\n",
    "# Connect to SQLite database\n",
    "conn = sqlite3.connect(\"alpha_testing.db\")\n",
    "cursor = conn.cursor()\n",
    "\n",
    "# Create bug_reports table\n",
    "cursor.execute(\"\"\"\n",
    "CREATE TABLE IF NOT EXISTS bug_reports (\n",
    "    id INTEGER PRIMARY KEY AUTOINCREMENT,\n",
    "    tester_name TEXT,\n",
    "    issue_description TEXT,\n",
    "    severity TEXT,\n",
    "    date_reported DATE,\n",
    "    status TEXT DEFAULT 'open'\n",
    ")\n",
    "\"\"\")\n",
    "conn.commit()\n",
    "print(\"Bug tracking table ready.\")\n"
   ]
  },
  {
   "cell_type": "code",
   "execution_count": 2,
   "id": "1859175b-1627-483e-b831-6341739d80d2",
   "metadata": {},
   "outputs": [
    {
     "name": "stdout",
     "output_type": "stream",
     "text": [
      "Bug logged for Alice: Audio stops midway\n",
      "Bug logged for Bob: Progress tracker not updating\n"
     ]
    }
   ],
   "source": [
    "def log_bug(tester_name, description, severity):\n",
    "    today = date.today()\n",
    "    cursor.execute(\"\"\"\n",
    "    INSERT INTO bug_reports (tester_name, issue_description, severity, date_reported)\n",
    "    VALUES (?, ?, ?, ?)\n",
    "    \"\"\", (tester_name, description, severity, today))\n",
    "    conn.commit()\n",
    "    print(f\"Bug logged for {tester_name}: {description}\")\n",
    "\n",
    "# Example usage\n",
    "log_bug(\"Alice\", \"Audio stops midway\", \"High\")\n",
    "log_bug(\"Bob\", \"Progress tracker not updating\", \"Medium\")\n"
   ]
  },
  {
   "cell_type": "code",
   "execution_count": 3,
   "id": "f2e00910-7efb-4154-966f-397a2d95826a",
   "metadata": {},
   "outputs": [
    {
     "data": {
      "text/html": [
       "<div>\n",
       "<style scoped>\n",
       "    .dataframe tbody tr th:only-of-type {\n",
       "        vertical-align: middle;\n",
       "    }\n",
       "\n",
       "    .dataframe tbody tr th {\n",
       "        vertical-align: top;\n",
       "    }\n",
       "\n",
       "    .dataframe thead th {\n",
       "        text-align: right;\n",
       "    }\n",
       "</style>\n",
       "<table border=\"1\" class=\"dataframe\">\n",
       "  <thead>\n",
       "    <tr style=\"text-align: right;\">\n",
       "      <th></th>\n",
       "      <th>id</th>\n",
       "      <th>tester_name</th>\n",
       "      <th>issue_description</th>\n",
       "      <th>severity</th>\n",
       "      <th>date_reported</th>\n",
       "      <th>status</th>\n",
       "    </tr>\n",
       "  </thead>\n",
       "  <tbody>\n",
       "    <tr>\n",
       "      <th>0</th>\n",
       "      <td>1</td>\n",
       "      <td>Alice</td>\n",
       "      <td>Audio stops midway</td>\n",
       "      <td>High</td>\n",
       "      <td>2025-09-06</td>\n",
       "      <td>open</td>\n",
       "    </tr>\n",
       "    <tr>\n",
       "      <th>1</th>\n",
       "      <td>2</td>\n",
       "      <td>Bob</td>\n",
       "      <td>Progress tracker not updating</td>\n",
       "      <td>Medium</td>\n",
       "      <td>2025-09-06</td>\n",
       "      <td>open</td>\n",
       "    </tr>\n",
       "  </tbody>\n",
       "</table>\n",
       "</div>"
      ],
      "text/plain": [
       "   id tester_name              issue_description severity date_reported status\n",
       "0   1       Alice             Audio stops midway     High    2025-09-06   open\n",
       "1   2         Bob  Progress tracker not updating   Medium    2025-09-06   open"
      ]
     },
     "execution_count": 3,
     "metadata": {},
     "output_type": "execute_result"
    }
   ],
   "source": [
    "import pandas as pd\n",
    "\n",
    "df_bugs = pd.read_sql_query(\"SELECT * FROM bug_reports\", conn)\n",
    "df_bugs\n"
   ]
  },
  {
   "cell_type": "code",
   "execution_count": null,
   "id": "09096d98-13c4-4ef9-8a64-5a250630b495",
   "metadata": {},
   "outputs": [],
   "source": []
  }
 ],
 "metadata": {
  "kernelspec": {
   "display_name": "Python 3 (ipykernel)",
   "language": "python",
   "name": "python3"
  },
  "language_info": {
   "codemirror_mode": {
    "name": "ipython",
    "version": 3
   },
   "file_extension": ".py",
   "mimetype": "text/x-python",
   "name": "python",
   "nbconvert_exporter": "python",
   "pygments_lexer": "ipython3",
   "version": "3.11.7"
  },
  "widgets": {
   "application/vnd.jupyter.widget-state+json": {
    "state": {},
    "version_major": 2,
    "version_minor": 0
   }
  }
 },
 "nbformat": 4,
 "nbformat_minor": 5
}
