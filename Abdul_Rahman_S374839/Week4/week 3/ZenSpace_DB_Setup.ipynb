{
 "cells": [
  {
   "cell_type": "code",
   "execution_count": 1,
   "id": "22a58b34-9dc7-47fb-9053-ab4f0a59cd35",
   "metadata": {},
   "outputs": [],
   "source": [
    "import sqlite3\n",
    "\n",
    "# Create DB file\n",
    "conn = sqlite3.connect(\"zenspace.db\")\n",
    "cursor = conn.cursor()"
   ]
  },
  {
   "cell_type": "code",
   "execution_count": 2,
   "id": "5d616bba-1e9c-4964-b4ad-f892bdb853db",
   "metadata": {},
   "outputs": [
    {
     "data": {
      "text/plain": [
       "<sqlite3.Cursor at 0x23687fc6ec0>"
      ]
     },
     "execution_count": 2,
     "metadata": {},
     "output_type": "execute_result"
    }
   ],
   "source": [
    "cursor.executescript(\"\"\"\n",
    "CREATE TABLE IF NOT EXISTS sessions (\n",
    "    session_id INTEGER PRIMARY KEY AUTOINCREMENT,\n",
    "    user_id INT,\n",
    "    session_type TEXT,\n",
    "    category TEXT,\n",
    "    duration INT,\n",
    "    started_at TEXT,\n",
    "    completed_at TEXT\n",
    ");\n",
    "\n",
    "CREATE TABLE IF NOT EXISTS preferences (\n",
    "    user_id INT,\n",
    "    key_name TEXT,\n",
    "    value TEXT,\n",
    "    updated_at TEXT,\n",
    "    PRIMARY KEY (user_id, key_name)\n",
    ");\n",
    "\n",
    "CREATE TABLE IF NOT EXISTS reminders (\n",
    "    reminder_id INTEGER PRIMARY KEY AUTOINCREMENT,\n",
    "    user_id INT,\n",
    "    reminder_time TEXT,\n",
    "    triggered_at TEXT,\n",
    "    opened BOOLEAN\n",
    ");\n",
    "\"\"\")"
   ]
  },
  {
   "cell_type": "code",
   "execution_count": 3,
   "id": "5033f391-d131-402c-a423-a4eb812e8dcb",
   "metadata": {},
   "outputs": [
    {
     "data": {
      "text/plain": [
       "<sqlite3.Cursor at 0x23687fc6ec0>"
      ]
     },
     "execution_count": 3,
     "metadata": {},
     "output_type": "execute_result"
    }
   ],
   "source": [
    "cursor.executescript(\"\"\"\n",
    "-- Clean tables first\n",
    "DELETE FROM sessions;\n",
    "DELETE FROM preferences;\n",
    "DELETE FROM reminders;\n",
    "\n",
    "-- Insert sessions\n",
    "INSERT INTO sessions (user_id, session_type, category, duration, started_at, completed_at)\n",
    "VALUES \n",
    "(1, 'meditation', 'stress', 15, datetime('now','-2 days'), datetime('now','-2 days')),\n",
    "(1, 'meditation', 'focus', 10, datetime('now','-1 days'), datetime('now','-1 days')),\n",
    "(2, 'meditation', 'sleep', 20, datetime('now'), datetime('now')),\n",
    "(1, 'breathing', 'box', 5, datetime('now','-3 days'), datetime('now','-3 days')),\n",
    "(2, 'breathing', 'deep', 8, datetime('now'), datetime('now')),\n",
    "(1, 'sound', 'rain', 30, datetime('now','-1 days'), datetime('now','-1 days')),\n",
    "(2, 'sound', 'ocean', 25, datetime('now'), datetime('now'));\n",
    "\n",
    "-- Insert preferences\n",
    "INSERT INTO preferences (user_id, key_name, value, updated_at)\n",
    "VALUES \n",
    "(1, 'reminder_time', '20:00', datetime('now')),\n",
    "(1, 'favorite_sound', 'rain', datetime('now')),\n",
    "(2, 'reminder_time', '21:00', datetime('now'));\n",
    "\n",
    "-- Insert reminders\n",
    "INSERT INTO reminders (user_id, reminder_time, triggered_at, opened)\n",
    "VALUES \n",
    "(1, '20:00', datetime('now','-1 days'), 1),\n",
    "(1, '20:00', datetime('now'), 0),\n",
    "(2, '21:00', datetime('now'), 1);\n",
    "\"\"\")\n"
   ]
  },
  {
   "cell_type": "code",
   "execution_count": 4,
   "id": "42a8b73d-6790-4b1f-8b16-3b9c2e905737",
   "metadata": {},
   "outputs": [],
   "source": [
    "conn.commit()\n",
    "conn.close()"
   ]
  },
  {
   "cell_type": "code",
   "execution_count": null,
   "id": "a01048bd-884c-4f07-a9cb-3195b5394e13",
   "metadata": {},
   "outputs": [],
   "source": []
  }
 ],
 "metadata": {
  "kernelspec": {
   "display_name": "Python 3 (ipykernel)",
   "language": "python",
   "name": "python3"
  },
  "language_info": {
   "codemirror_mode": {
    "name": "ipython",
    "version": 3
   },
   "file_extension": ".py",
   "mimetype": "text/x-python",
   "name": "python",
   "nbconvert_exporter": "python",
   "pygments_lexer": "ipython3",
   "version": "3.11.7"
  },
  "widgets": {
   "application/vnd.jupyter.widget-state+json": {
    "state": {},
    "version_major": 2,
    "version_minor": 0
   }
  }
 },
 "nbformat": 4,
 "nbformat_minor": 5
}
